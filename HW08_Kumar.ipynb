{
  "nbformat": 4,
  "nbformat_minor": 0,
  "metadata": {
    "kernelspec": {
      "display_name": "R 3.6",
      "language": "R",
      "name": "r-3.6"
    },
    "language_info": {
      "codemirror_mode": "r",
      "file_extension": ".r",
      "mimetype": "text/x-r-source",
      "name": "R",
      "pygments_lexer": "r",
      "version": "3.6.0"
    },
    "colab": {
      "name": "HW08_Kumar.ipynb",
      "provenance": [],
      "include_colab_link": true
    }
  },
  "cells": [
    {
      "cell_type": "markdown",
      "metadata": {
        "id": "view-in-github",
        "colab_type": "text"
      },
      "source": [
        "<a href=\"https://colab.research.google.com/github/Laxman-Kumar/ISCHOOL-LABS/blob/master/HW08_Kumar.ipynb\" target=\"_parent\"><img src=\"https://colab.research.google.com/assets/colab-badge.svg\" alt=\"Open In Colab\"/></a>"
      ]
    },
    {
      "cell_type": "markdown",
      "metadata": {
        "collapsed": true,
        "id": "hNvlfQpyqWjc",
        "colab_type": "text"
      },
      "source": [
        "IST 687, Standard Homework Heading \n",
        "\n",
        "Student name: Laxman Kumar \n",
        "\n",
        "Homework number: HW08\n",
        "\n",
        "Date due: 07 October \n",
        "\n",
        "Attribution statement: (choose the statements that are true) \n",
        "1. I did this work by myself, with help from the book and the professor \n",
        "2. I did this work with help from the book and the professor and R-studio help section"
      ]
    },
    {
      "cell_type": "markdown",
      "metadata": {
        "id": "t5wwXjyeqWji",
        "colab_type": "text"
      },
      "source": [
        "<h3> Code from PE08 </h3>"
      ]
    },
    {
      "cell_type": "code",
      "metadata": {
        "id": "HvMZwUrdqWjk",
        "colab_type": "code",
        "colab": {},
        "outputId": "16be6926-fc7b-4c12-cc83-0ad7d4687af4"
      },
      "source": [
        "#Installing readxl package\n",
        "install.packages('readxl')"
      ],
      "execution_count": 0,
      "outputs": [
        {
          "output_type": "stream",
          "text": [
            "Updating HTML index of packages in '.Library'\n",
            "Making 'packages.html' ... done\n"
          ],
          "name": "stderr"
        }
      ]
    },
    {
      "cell_type": "code",
      "metadata": {
        "id": "2dbq7izSqWju",
        "colab_type": "code",
        "colab": {},
        "outputId": "8eee24f1-c4b0-475a-85bc-33f2f179688a"
      },
      "source": [
        "#Installing ggplot2 library\n",
        "install.packages('ggplot2')"
      ],
      "execution_count": 0,
      "outputs": [
        {
          "output_type": "stream",
          "text": [
            "Updating HTML index of packages in '.Library'\n",
            "Making 'packages.html' ... done\n"
          ],
          "name": "stderr"
        }
      ]
    },
    {
      "cell_type": "code",
      "metadata": {
        "id": "iYXJzvkNqWj5",
        "colab_type": "code",
        "colab": {}
      },
      "source": [
        "#importing readxl package\n",
        "library(readxl)\n",
        "library(ggplot2)"
      ],
      "execution_count": 0,
      "outputs": []
    },
    {
      "cell_type": "code",
      "metadata": {
        "id": "dzGTiogYqWj_",
        "colab_type": "code",
        "colab": {}
      },
      "source": [
        "#assigning the url to a variable url1\n",
        "url1 <- \"http://college.cengage.com/mathematics/brase/understandable_statistics/7e/students/datasets/mlr/excel/mlr01.xls\"\n",
        "#creating a tempfile and assigning reference to p1f\n",
        "p1f <- tempfile()\n",
        "#dowloading the file specified by url1 variable at the p1f temporary file location\n",
        "download.file(url1, p1f)\n",
        "#reading the excel file using read_exel command from path specified by p1f and \n",
        "#sheet specified as sheet 1 although we don't have to specify the sheet number since we have only one sheet in the excel file\n",
        "df<-read_excel(path = p1f, sheet = 1)"
      ],
      "execution_count": 0,
      "outputs": []
    },
    {
      "cell_type": "code",
      "metadata": {
        "id": "UXtvcsPJqWkK",
        "colab_type": "code",
        "colab": {}
      },
      "source": [
        "#The data (X1, X2, X3, X4) are for each year. I am assigning each description to a variable for the further use.\n",
        "#x1 represents the fawn count divided by 100\n",
        "X1 <- \"SpringFawnCount\"\n",
        "#represents the size of population of adult antelope divided by 100\n",
        "X2 <- \"AdultAntelopePopulation\"\n",
        "#gives us the values of annual precipitation in inches\n",
        "X3 <- \"AnnualPrecipitation\"\n",
        "#tell us about how severe the winter is value range from 1 to 5 where 1 represents mild winter and 5 represents severe.\n",
        "X4 <- \"WinterSeverityIndex\"\n",
        "\n",
        "\n",
        "#renaming the column names by overwriting the column names by new values listed on the right hand side\n",
        "colnames(df) <- c(X1,X2,X3,X4)"
      ],
      "execution_count": 0,
      "outputs": []
    },
    {
      "cell_type": "code",
      "metadata": {
        "id": "OK4dxf8BqWkO",
        "colab_type": "code",
        "colab": {},
        "outputId": "e0fcd028-aa5d-44f8-c6b3-61e76e1704a9"
      },
      "source": [
        "df"
      ],
      "execution_count": 0,
      "outputs": [
        {
          "output_type": "display_data",
          "data": {
            "text/html": [
              "<table>\n",
              "<thead><tr><th scope=col>SpringFawnCount</th><th scope=col>AdultAntelopePopulation</th><th scope=col>AnnualPrecipitation</th><th scope=col>WinterSeverityIndex</th></tr></thead>\n",
              "<tbody>\n",
              "\t<tr><td>2.9 </td><td>9.2 </td><td>13.2</td><td>2   </td></tr>\n",
              "\t<tr><td>2.4 </td><td>8.7 </td><td>11.5</td><td>3   </td></tr>\n",
              "\t<tr><td>2.0 </td><td>7.2 </td><td>10.8</td><td>4   </td></tr>\n",
              "\t<tr><td>2.3 </td><td>8.5 </td><td>12.3</td><td>2   </td></tr>\n",
              "\t<tr><td>3.2 </td><td>9.6 </td><td>12.6</td><td>3   </td></tr>\n",
              "\t<tr><td>1.9 </td><td>6.8 </td><td>10.6</td><td>5   </td></tr>\n",
              "\t<tr><td>3.4 </td><td>9.7 </td><td>14.1</td><td>1   </td></tr>\n",
              "\t<tr><td>2.1 </td><td>7.9 </td><td>11.2</td><td>3   </td></tr>\n",
              "</tbody>\n",
              "</table>\n"
            ],
            "text/latex": "\\begin{tabular}{r|llll}\n SpringFawnCount & AdultAntelopePopulation & AnnualPrecipitation & WinterSeverityIndex\\\\\n\\hline\n\t 2.9  & 9.2  & 13.2 & 2   \\\\\n\t 2.4  & 8.7  & 11.5 & 3   \\\\\n\t 2.0  & 7.2  & 10.8 & 4   \\\\\n\t 2.3  & 8.5  & 12.3 & 2   \\\\\n\t 3.2  & 9.6  & 12.6 & 3   \\\\\n\t 1.9  & 6.8  & 10.6 & 5   \\\\\n\t 3.4  & 9.7  & 14.1 & 1   \\\\\n\t 2.1  & 7.9  & 11.2 & 3   \\\\\n\\end{tabular}\n",
            "text/markdown": "\n| SpringFawnCount | AdultAntelopePopulation | AnnualPrecipitation | WinterSeverityIndex |\n|---|---|---|---|\n| 2.9  | 9.2  | 13.2 | 2    |\n| 2.4  | 8.7  | 11.5 | 3    |\n| 2.0  | 7.2  | 10.8 | 4    |\n| 2.3  | 8.5  | 12.3 | 2    |\n| 3.2  | 9.6  | 12.6 | 3    |\n| 1.9  | 6.8  | 10.6 | 5    |\n| 3.4  | 9.7  | 14.1 | 1    |\n| 2.1  | 7.9  | 11.2 | 3    |\n\n",
            "text/plain": [
              "  SpringFawnCount AdultAntelopePopulation AnnualPrecipitation\n",
              "1 2.9             9.2                     13.2               \n",
              "2 2.4             8.7                     11.5               \n",
              "3 2.0             7.2                     10.8               \n",
              "4 2.3             8.5                     12.3               \n",
              "5 3.2             9.6                     12.6               \n",
              "6 1.9             6.8                     10.6               \n",
              "7 3.4             9.7                     14.1               \n",
              "8 2.1             7.9                     11.2               \n",
              "  WinterSeverityIndex\n",
              "1 2                  \n",
              "2 3                  \n",
              "3 4                  \n",
              "4 2                  \n",
              "5 3                  \n",
              "6 5                  \n",
              "7 1                  \n",
              "8 3                  "
            ]
          },
          "metadata": {
            "tags": []
          }
        }
      ]
    },
    {
      "cell_type": "markdown",
      "metadata": {
        "id": "5sMlnN6tqWkS",
        "colab_type": "text"
      },
      "source": [
        "<h2>Step 1:  Visualizing a Linear Model.</h2>"
      ]
    },
    {
      "cell_type": "markdown",
      "metadata": {
        "id": "HUNVA3GwqWkX",
        "colab_type": "text"
      },
      "source": [
        "<h3>A.\tUsing ggplot, create a bivariate plot of the number of baby fawns versus adult antelope population. Make sure the Y-axis and X-axis are labeled. Keeping in mind that the number of fawns is the outcome (dependent) variable, which axis should it occupy in your plots? Comment your observations.</h3>"
      ]
    },
    {
      "cell_type": "code",
      "metadata": {
        "id": "WdRy4Z1SqWkY",
        "colab_type": "code",
        "colab": {},
        "outputId": "083a7da0-e1d5-40d4-8f6b-1bbc32ac519b"
      },
      "source": [
        "#creating a reference to the ggplot with data passed as df dataframe\n",
        "#geometry used is geom_point with aesthetics x axis as AdultAntelopePopulation and y axis as SpringFawnCount.\n",
        "plot <- ggplot(df) + geom_point(aes(x = AdultAntelopePopulation, y = SpringFawnCount),colour = \"blue\")\n",
        "plot <- plot + ggtitle(\"Relation between # of baby fawns and Adult Antelope Population\")+xlab(\"Adult Antelope Population\")+ylab(\"Number of fawns\")\n",
        "plot\n",
        "\n",
        "#Dependent variable should occupy the y-axis and independent variable are put on x-axis.\n",
        "\n",
        "#To some extend, relation varies linearly though it doesn't seems strong but there is a positive linear relationship.\n",
        "#It is a positive relationship since as we can see, the value of points on the y-axis increases w.r.t value of points on x-axis.\n",
        "#Overall we can say that Number of baby fawns increases as the Population of adult antelope also increases.\n",
        "#The number of fawns increases with small amount till the Adult Antelope population is 9, but after 9 it shows a greater increase."
      ],
      "execution_count": 0,
      "outputs": [
        {
          "output_type": "display_data",
          "data": {
            "image/png": "[encoded data removed]",
            "text/plain": [
              "plot without title"
            ]
          },
          "metadata": {
            "tags": []
          }
        }
      ]
    },
    {
      "cell_type": "markdown",
      "metadata": {
        "id": "ClZeiMgaqWkd",
        "colab_type": "text"
      },
      "source": [
        "<h3>B.\tUsing similar code, create another bivariate plot of the number of baby fawns versus precipitation that year and comment your observations.</h3>"
      ]
    },
    {
      "cell_type": "code",
      "metadata": {
        "id": "ftMlXEO6qWke",
        "colab_type": "code",
        "colab": {},
        "outputId": "c3fb5f93-12a7-4dea-d8fa-1df27942ff8a"
      },
      "source": [
        "#creating a reference to the ggplot with data passed as df dataframe\n",
        "#geometry used is geom_point with aesthetics x axis as AdultAntelopePopulation and y axis as SpringFawnCount.\n",
        "plot <- ggplot(df) + geom_point(aes(x = AnnualPrecipitation, y = SpringFawnCount),colour = \"red\")\n",
        "plot <- plot + ggtitle(\"Relation between # of baby fawns and Annual Precipitation\")+xlab(\"Annual Precipitation\")+ylab(\"Number of fawns\")\n",
        "plot\n",
        "\n",
        "#Dependent variable should occupy the y-axis and independent variable are put on x-axis.\n",
        "\n",
        "#There is a weak linear relationship.\n",
        "#It is a positive relationship since as we can see, the value of points on the y-axis increases w.r.t value of points on x-axis.\n",
        "#But its not always there are occurences where the value on Number of fawns decreases while the Annual Precipation increases.\n"
      ],
      "execution_count": 0,
      "outputs": [
        {
          "output_type": "display_data",
          "data": {
            "image/png": "[encoded data removed]",
            "text/plain": [
              "plot without title"
            ]
          },
          "metadata": {
            "tags": []
          }
        }
      ]
    },
    {
      "cell_type": "markdown",
      "metadata": {
        "id": "_534BM62qWki",
        "colab_type": "text"
      },
      "source": [
        "<h3>C.\tCreate a final bivariate plot that examines the number of baby fawns versus severity of the winter and comment your observations.</h3>"
      ]
    },
    {
      "cell_type": "code",
      "metadata": {
        "id": "UFkSLFbXqWkk",
        "colab_type": "code",
        "colab": {},
        "outputId": "3042095f-e85b-4a32-ba64-912a39683760"
      },
      "source": [
        "#creating a reference to the ggplot with data passed as df dataframe\n",
        "#geometry used is geom_point with aesthetics x axis as AdultAntelopePopulation and y axis as SpringFawnCount.\n",
        "plot <- ggplot(df) + geom_point(aes(x = WinterSeverityIndex, y = SpringFawnCount,colour = \"red\"))\n",
        "plot <- plot + ggtitle(\"Relation between # of baby fawns and Winter Severity Index\")+xlab(\"Winter Severity Index\")+ylab(\"Number of fawns\")\n",
        "plot\n",
        "\n",
        "#Dependent variable should occupy the y-axis and independent variable are put on x-axis.\n",
        "\n",
        "#Its really difficult to conclude anything from the plot below since it doesnot shows any pattern.\n",
        "#There are occurences where one value on x-axis represents more that one value on y-axis. This creates a problem in determining anything\n",
        "#from the plot\n",
        "#No relation "
      ],
      "execution_count": 0,
      "outputs": [
        {
          "output_type": "display_data",
          "data": {
            "image/png": "[encoded data removed]",
            "text/plain": [
              "plot without title"
            ]
          },
          "metadata": {
            "tags": []
          }
        }
      ]
    },
    {
      "cell_type": "markdown",
      "metadata": {
        "id": "k8BdC64HqWkq",
        "colab_type": "text"
      },
      "source": [
        "<h2>Step 2:  Creating a regression model.</h2>"
      ]
    },
    {
      "cell_type": "markdown",
      "metadata": {
        "id": "vdLoVMVEqWks",
        "colab_type": "text"
      },
      "source": [
        "<h3>A.\tUsing the above independent variables (adult antelope pop., precipitation that year, and severity of winter) create a SINGLE regression model that predicts the number of fawns.\n",
        "(HINT: If you are stuck, refer to page 202 in the textbook for syntax and explanations of lm())</h3>"
      ]
    },
    {
      "cell_type": "code",
      "metadata": {
        "id": "tzyTc1PBqWkv",
        "colab_type": "code",
        "colab": {},
        "outputId": "95ae81d8-a419-424e-814b-f875f88cf566"
      },
      "source": [
        "#Making a linear model with Adult Antelope Population, Annual Precipitation and Winter Severity Index as independent variable \n",
        "#and Fawn count as dependent variable\n",
        "linearModel <- lm(formula = SpringFawnCount ~ AdultAntelopePopulation+AnnualPrecipitation+WinterSeverityIndex, data = df)\n",
        "\n",
        "#getting the summary of the linear model generated\n",
        "summary(linearModel)"
      ],
      "execution_count": 0,
      "outputs": [
        {
          "output_type": "display_data",
          "data": {
            "text/plain": [
              "\n",
              "Call:\n",
              "lm(formula = SpringFawnCount ~ AdultAntelopePopulation + AnnualPrecipitation + \n",
              "    WinterSeverityIndex, data = df)\n",
              "\n",
              "Residuals:\n",
              "       1        2        3        4        5        6        7        8 \n",
              "-0.11533 -0.02661  0.09882 -0.11723  0.02734 -0.04854  0.11715  0.06441 \n",
              "\n",
              "Coefficients:\n",
              "                        Estimate Std. Error t value Pr(>|t|)   \n",
              "(Intercept)             -5.92201    1.25562  -4.716   0.0092 **\n",
              "AdultAntelopePopulation  0.33822    0.09947   3.400   0.0273 * \n",
              "AnnualPrecipitation      0.40150    0.10990   3.653   0.0217 * \n",
              "WinterSeverityIndex      0.26295    0.08514   3.089   0.0366 * \n",
              "---\n",
              "Signif. codes:  0 ‘***’ 0.001 ‘**’ 0.01 ‘*’ 0.05 ‘.’ 0.1 ‘ ’ 1\n",
              "\n",
              "Residual standard error: 0.1209 on 4 degrees of freedom\n",
              "Multiple R-squared:  0.9743,\tAdjusted R-squared:  0.955 \n",
              "F-statistic: 50.52 on 3 and 4 DF,  p-value: 0.001229\n"
            ]
          },
          "metadata": {
            "tags": []
          }
        }
      ]
    },
    {
      "cell_type": "markdown",
      "metadata": {
        "id": "U_aIpt3sqWk4",
        "colab_type": "text"
      },
      "source": [
        "<h3>B.\tIn a comment, record the R-Squared value of the model and explain its significance to the model. </h3>"
      ]
    },
    {
      "cell_type": "markdown",
      "metadata": {
        "id": "eVY8S-OqqWk6",
        "colab_type": "text"
      },
      "source": [
        "As we can see in the summary, we have two values R-Squared and Adjusted R-Squared also known as coefficient of determination. R-Squared value is usefull for Simple Linear Regression while in Multiple Linear Regression we always look onto Adjusted R-Squared for the determination of how well our model fits the data. R-Squared value determines the how well the set of Independent variables can determine the value of dependent variable on the regression line, how close data are fitted to the regression line. R-Squared value will always be greater than adjusted R-squared.\n",
        "\n",
        "Since this is a multiple linear regression model, we will look at our adjusted R-squared value. Our current model gives 95.5% or 0.955 as adjusted R-sqaured. Our model fits the data on the line with very good precision."
      ]
    },
    {
      "cell_type": "markdown",
      "metadata": {
        "id": "xOLW1u1RqWk-",
        "colab_type": "text"
      },
      "source": [
        "<h3>C.\tIn a comment, note the predictor that is most statistically significant. How were you able to decide which predictors were significant and which were not?</h3>"
      ]
    },
    {
      "cell_type": "markdown",
      "metadata": {
        "id": "C1SibPgCqWk_",
        "colab_type": "text"
      },
      "source": [
        "We will have to look at the P-value for determining the most significant predictor. P-value with less than 0.05 is considered as significant According to the model created, Annual Precipation index with P-value 0.0217 is the most statistically significant. Other two predictor are Adult Antelope Population & Winter severity index with p-value 0.0273 and 0.0366 respectively. "
      ]
    },
    {
      "cell_type": "markdown",
      "metadata": {
        "id": "PJ9g-V29qWlA",
        "colab_type": "text"
      },
      "source": [
        "<h2>Step 3:  Interpreting the model.</h2>"
      ]
    },
    {
      "cell_type": "markdown",
      "metadata": {
        "id": "-ttZHQuZqWlC",
        "colab_type": "text"
      },
      "source": [
        "<h3>A.\tWrite a block comment that explains in a paragraph your overall interpretation of the model. </h3>"
      ]
    },
    {
      "cell_type": "markdown",
      "metadata": {
        "id": "vXwKgpoOqWlD",
        "colab_type": "text"
      },
      "source": [
        "The model created with AdultAntelopePopulation, AnnualPrecipitation and WinterSeverityIndex as independent variable and Number of fawns as dependent variable. The model aims on predicting the number of fawns by using AdultAntelopePopulation, AnnualPrecipitation and WinterSeverityIndex. lm() function is used to build a regression model. Model build has 0.955 adjusted R-squared value, which gives us the information that how well our model fits the predictors on regression line. The predictors well defines the prediction of number of fawns. "
      ]
    },
    {
      "cell_type": "markdown",
      "metadata": {
        "id": "q8TqsknlqWlJ",
        "colab_type": "text"
      },
      "source": [
        "<h3>B.\tIn a comment, write out the full multiple regression equation and then explain how to interpret the equation</h3>"
      ]
    },
    {
      "cell_type": "markdown",
      "metadata": {
        "id": "z6-9IjB6qWlL",
        "colab_type": "text"
      },
      "source": [
        "<b>Multiple Linear Regression\n",
        "Equation - Y = b0 + b1*x1 + b2*x2 + b3*x3 + b4*x4 .... .. . ... bn*xn</b>\n",
        "\n",
        "<p>Y - represents the dependent variable of predictor</p>\n",
        "<p>b0 - represents the slope value or coefficient value\n",
        "<p>b1....bn - represents the coefficient of the respective explanatory/independent variable\n",
        "<p>x1....xn - represents the independent variable\n",
        "\n",
        "\n",
        "<p><b>Interpretation</b>\n",
        "    <p> Y = -5.922 + 0.338*AdultAntelopePopulation + 0.402*AnnualPrecipitation + 0.263*WinterSeverityIndex </p>\n",
        " \n",
        " <p> 1. Every one unit increase in AdultAntelopePopulation will result in increase in the Number of fawns prediction by 0.338 holding other variables constant.</p>\n",
        " <p> 2. Every one unit increase in AnnualPrecipitation will result in increase in Number of fawns prediction by 0.402 holding other variables constant</p>\n",
        " <p> 3. Every one unit increase in WinterSeverityIndex will result in increase in Number of fawns prediction by 0.263 holding other variables constant</p>\n",
        " "
      ]
    },
    {
      "cell_type": "code",
      "metadata": {
        "id": "jk7AHljRqWlM",
        "colab_type": "code",
        "colab": {}
      },
      "source": [
        ""
      ],
      "execution_count": 0,
      "outputs": []
    }
  ]
}